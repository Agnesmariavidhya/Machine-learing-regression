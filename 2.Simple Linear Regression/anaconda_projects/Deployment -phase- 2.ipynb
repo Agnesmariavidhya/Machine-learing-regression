{
 "cells": [
  {
   "cell_type": "code",
   "execution_count": 1,
   "id": "2117b0c4-4ffc-4e32-b0d5-bbe36c3b50fe",
   "metadata": {},
   "outputs": [],
   "source": [
    "#separate file this is for end user purpose\n",
    "import  pickle"
   ]
  },
  {
   "cell_type": "code",
   "execution_count": 8,
   "id": "3bf58bec-8742-4ae7-8d02-34e495cb6815",
   "metadata": {},
   "outputs": [
    {
     "name": "stderr",
     "output_type": "stream",
     "text": [
      "C:\\Anaconda3\\Lib\\site-packages\\sklearn\\utils\\validation.py:2739: UserWarning: X does not have valid feature names, but LinearRegression was fitted with feature names\n",
      "  warnings.warn(\n"
     ]
    }
   ],
   "source": [
    "\n",
    "loaded_model=pickle.load(open(\"Finalized_model_linear.sav\",'rb'))\n",
    "result=loaded_model. predict([[0]])\n",
    "\n"
   ]
  },
  {
   "cell_type": "code",
   "execution_count": 9,
   "id": "dde2af9a-1306-45c1-a2c7-af0f6b676ae2",
   "metadata": {},
   "outputs": [
    {
     "data": {
      "text/plain": [
       "array([[26777.3913412]])"
      ]
     },
     "execution_count": 9,
     "metadata": {},
     "output_type": "execute_result"
    }
   ],
   "source": [
    "#y=9360x+26777(26777 is a initial va\n",
    "result"
   ]
  },
  {
   "cell_type": "code",
   "execution_count": null,
   "id": "d181fde4-a067-450d-9d76-dc8ffc353a19",
   "metadata": {},
   "outputs": [],
   "source": []
  }
 ],
 "metadata": {
  "kernelspec": {
   "display_name": "Python [conda env:base] *",
   "language": "python",
   "name": "conda-base-py"
  },
  "language_info": {
   "codemirror_mode": {
    "name": "ipython",
    "version": 3
   },
   "file_extension": ".py",
   "mimetype": "text/x-python",
   "name": "python",
   "nbconvert_exporter": "python",
   "pygments_lexer": "ipython3",
   "version": "3.13.5"
  }
 },
 "nbformat": 4,
 "nbformat_minor": 5
}
