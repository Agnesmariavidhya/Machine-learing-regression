{
 "cells": [
  {
   "cell_type": "code",
   "execution_count": 1,
   "id": "c6abe2f5-edb9-4d4c-b57e-60ab65509a10",
   "metadata": {},
   "outputs": [],
   "source": [
    "import  pickle"
   ]
  },
  {
   "cell_type": "code",
   "execution_count": 2,
   "id": "668b3c56-be58-4326-865c-cb0872980c7a",
   "metadata": {},
   "outputs": [
    {
     "name": "stderr",
     "output_type": "stream",
     "text": [
      "C:\\Anaconda3\\Lib\\site-packages\\sklearn\\utils\\validation.py:2739: UserWarning: X does not have valid feature names, but LinearRegression was fitted with feature names\n",
      "  warnings.warn(\n"
     ]
    }
   ],
   "source": [
    "loaded_model=pickle.load(open(\"Finalized_model_Multiple_linear.sav\",'rb'))\n",
    "result=loaded_model. predict([[356,456,786,1,0]])"
   ]
  },
  {
   "cell_type": "code",
   "execution_count": 3,
   "id": "bf871e36-5f7e-4529-b4cf-43e64a5b665a",
   "metadata": {},
   "outputs": [
    {
     "data": {
      "text/plain": [
       "array([[43186.58641843]])"
      ]
     },
     "execution_count": 3,
     "metadata": {},
     "output_type": "execute_result"
    }
   ],
   "source": [
    "result"
   ]
  },
  {
   "cell_type": "code",
   "execution_count": null,
   "id": "0dd209fb-6192-4c7a-acd4-df24d9a6d9c9",
   "metadata": {},
   "outputs": [],
   "source": []
  }
 ],
 "metadata": {
  "kernelspec": {
   "display_name": "Python [conda env:base] *",
   "language": "python",
   "name": "conda-base-py"
  },
  "language_info": {
   "codemirror_mode": {
    "name": "ipython",
    "version": 3
   },
   "file_extension": ".py",
   "mimetype": "text/x-python",
   "name": "python",
   "nbconvert_exporter": "python",
   "pygments_lexer": "ipython3",
   "version": "3.13.5"
  }
 },
 "nbformat": 4,
 "nbformat_minor": 5
}
